{
 "cells": [
  {
   "cell_type": "code",
   "execution_count": 2,
   "id": "03c4301b",
   "metadata": {},
   "outputs": [],
   "source": [
    "import pandas as pd\n",
    "import numpy as np"
   ]
  },
  {
   "cell_type": "code",
   "execution_count": 4,
   "id": "996bd000",
   "metadata": {},
   "outputs": [
    {
     "data": {
      "text/html": [
       "<div>\n",
       "<style scoped>\n",
       "    .dataframe tbody tr th:only-of-type {\n",
       "        vertical-align: middle;\n",
       "    }\n",
       "\n",
       "    .dataframe tbody tr th {\n",
       "        vertical-align: top;\n",
       "    }\n",
       "\n",
       "    .dataframe thead th {\n",
       "        text-align: right;\n",
       "    }\n",
       "</style>\n",
       "<table border=\"1\" class=\"dataframe\">\n",
       "  <thead>\n",
       "    <tr style=\"text-align: right;\">\n",
       "      <th></th>\n",
       "      <th>YEAR</th>\n",
       "      <th>MONTH</th>\n",
       "      <th>SUPPLIER</th>\n",
       "      <th>ITEM CODE</th>\n",
       "      <th>ITEM DESCRIPTION</th>\n",
       "      <th>ITEM TYPE</th>\n",
       "      <th>RETAIL SALES</th>\n",
       "      <th>RETAIL TRANSFERS</th>\n",
       "      <th>WAREHOUSE SALES</th>\n",
       "    </tr>\n",
       "  </thead>\n",
       "  <tbody>\n",
       "    <tr>\n",
       "      <th>0</th>\n",
       "      <td>2020</td>\n",
       "      <td>1</td>\n",
       "      <td>REPUBLIC NATIONAL DISTRIBUTING CO</td>\n",
       "      <td>100009</td>\n",
       "      <td>BOOTLEG RED - 750ML</td>\n",
       "      <td>WINE</td>\n",
       "      <td>0.00</td>\n",
       "      <td>0.0</td>\n",
       "      <td>2.0</td>\n",
       "    </tr>\n",
       "    <tr>\n",
       "      <th>1</th>\n",
       "      <td>2020</td>\n",
       "      <td>1</td>\n",
       "      <td>PWSWN INC</td>\n",
       "      <td>100024</td>\n",
       "      <td>MOMENT DE PLAISIR - 750ML</td>\n",
       "      <td>WINE</td>\n",
       "      <td>0.00</td>\n",
       "      <td>1.0</td>\n",
       "      <td>4.0</td>\n",
       "    </tr>\n",
       "    <tr>\n",
       "      <th>2</th>\n",
       "      <td>2020</td>\n",
       "      <td>1</td>\n",
       "      <td>RELIABLE CHURCHILL LLLP</td>\n",
       "      <td>1001</td>\n",
       "      <td>S SMITH ORGANIC PEAR CIDER - 18.7OZ</td>\n",
       "      <td>BEER</td>\n",
       "      <td>0.00</td>\n",
       "      <td>0.0</td>\n",
       "      <td>1.0</td>\n",
       "    </tr>\n",
       "    <tr>\n",
       "      <th>3</th>\n",
       "      <td>2020</td>\n",
       "      <td>1</td>\n",
       "      <td>LANTERNA DISTRIBUTORS INC</td>\n",
       "      <td>100145</td>\n",
       "      <td>SCHLINK HAUS KABINETT - 750ML</td>\n",
       "      <td>WINE</td>\n",
       "      <td>0.00</td>\n",
       "      <td>0.0</td>\n",
       "      <td>1.0</td>\n",
       "    </tr>\n",
       "    <tr>\n",
       "      <th>4</th>\n",
       "      <td>2020</td>\n",
       "      <td>1</td>\n",
       "      <td>DIONYSOS IMPORTS INC</td>\n",
       "      <td>100293</td>\n",
       "      <td>SANTORINI GAVALA WHITE - 750ML</td>\n",
       "      <td>WINE</td>\n",
       "      <td>0.82</td>\n",
       "      <td>0.0</td>\n",
       "      <td>NaN</td>\n",
       "    </tr>\n",
       "  </tbody>\n",
       "</table>\n",
       "</div>"
      ],
      "text/plain": [
       "   YEAR  MONTH                           SUPPLIER ITEM CODE  \\\n",
       "0  2020      1  REPUBLIC NATIONAL DISTRIBUTING CO    100009   \n",
       "1  2020      1                          PWSWN INC    100024   \n",
       "2  2020      1            RELIABLE CHURCHILL LLLP      1001   \n",
       "3  2020      1          LANTERNA DISTRIBUTORS INC    100145   \n",
       "4  2020      1               DIONYSOS IMPORTS INC    100293   \n",
       "\n",
       "                      ITEM DESCRIPTION ITEM TYPE  RETAIL SALES  \\\n",
       "0                  BOOTLEG RED - 750ML      WINE          0.00   \n",
       "1            MOMENT DE PLAISIR - 750ML      WINE          0.00   \n",
       "2  S SMITH ORGANIC PEAR CIDER - 18.7OZ      BEER          0.00   \n",
       "3        SCHLINK HAUS KABINETT - 750ML      WINE          0.00   \n",
       "4       SANTORINI GAVALA WHITE - 750ML      WINE          0.82   \n",
       "\n",
       "   RETAIL TRANSFERS  WAREHOUSE SALES  \n",
       "0               0.0              2.0  \n",
       "1               1.0              4.0  \n",
       "2               0.0              1.0  \n",
       "3               0.0              1.0  \n",
       "4               0.0              NaN  "
      ]
     },
     "execution_count": 4,
     "metadata": {},
     "output_type": "execute_result"
    }
   ],
   "source": [
    "df=pd.read_csv(\"Warehouse_and_Retail_Sales.csv\")\n",
    "df.head()"
   ]
  },
  {
   "cell_type": "code",
   "execution_count": 5,
   "id": "7a6c6468",
   "metadata": {},
   "outputs": [
    {
     "data": {
      "text/plain": [
       "SUPPLIER            167\n",
       "RETAIL SALES          3\n",
       "WAREHOUSE SALES       3\n",
       "ITEM CODE             2\n",
       "ITEM TYPE             1\n",
       "YEAR                  0\n",
       "MONTH                 0\n",
       "ITEM DESCRIPTION      0\n",
       "RETAIL TRANSFERS      0\n",
       "dtype: int64"
      ]
     },
     "execution_count": 5,
     "metadata": {},
     "output_type": "execute_result"
    }
   ],
   "source": [
    "df.isnull().sum().sort_values(ascending = False)"
   ]
  },
  {
   "cell_type": "code",
   "execution_count": 6,
   "id": "1836e8a3",
   "metadata": {},
   "outputs": [
    {
     "name": "stdout",
     "output_type": "stream",
     "text": [
      "<class 'pandas.core.frame.DataFrame'>\n",
      "RangeIndex: 307645 entries, 0 to 307644\n",
      "Data columns (total 9 columns):\n",
      " #   Column            Non-Null Count   Dtype  \n",
      "---  ------            --------------   -----  \n",
      " 0   YEAR              307645 non-null  int64  \n",
      " 1   MONTH             307645 non-null  int64  \n",
      " 2   SUPPLIER          307478 non-null  object \n",
      " 3   ITEM CODE         307643 non-null  object \n",
      " 4   ITEM DESCRIPTION  307645 non-null  object \n",
      " 5   ITEM TYPE         307644 non-null  object \n",
      " 6   RETAIL SALES      307642 non-null  float64\n",
      " 7   RETAIL TRANSFERS  307645 non-null  float64\n",
      " 8   WAREHOUSE SALES   307642 non-null  float64\n",
      "dtypes: float64(3), int64(2), object(4)\n",
      "memory usage: 21.1+ MB\n"
     ]
    }
   ],
   "source": [
    "df.info()"
   ]
  },
  {
   "cell_type": "code",
   "execution_count": 7,
   "id": "9c04f4b6",
   "metadata": {},
   "outputs": [
    {
     "name": "stdout",
     "output_type": "stream",
     "text": [
      "        YEAR  MONTH                             SUPPLIER ITEM CODE  \\\n",
      "0       2020      1    REPUBLIC NATIONAL DISTRIBUTING CO    100009   \n",
      "1       2020      1                            PWSWN INC    100024   \n",
      "2       2020      1              RELIABLE CHURCHILL LLLP      1001   \n",
      "3       2020      1            LANTERNA DISTRIBUTORS INC    100145   \n",
      "4       2020      1                 DIONYSOS IMPORTS INC    100293   \n",
      "...      ...    ...                                  ...       ...   \n",
      "307640  2020      9              BOSTON BEER CORPORATION     98868   \n",
      "307641  2020      9  GLOBAL OCEAN AND AIR CARGO SERVICES     98884   \n",
      "307642  2020      9                         HEINEKEN USA     98906   \n",
      "307643  2020      9              RELIABLE CHURCHILL LLLP     98914   \n",
      "307644  2020      9                CONSTANTINE WINES INC     98930   \n",
      "\n",
      "                           ITEM DESCRIPTION ITEM TYPE  RETAIL SALES  \\\n",
      "0                       BOOTLEG RED - 750ML      WINE          0.00   \n",
      "1                 MOMENT DE PLAISIR - 750ML      WINE          0.00   \n",
      "2       S SMITH ORGANIC PEAR CIDER - 18.7OZ      BEER          0.00   \n",
      "3             SCHLINK HAUS KABINETT - 750ML      WINE          0.00   \n",
      "4            SANTORINI GAVALA WHITE - 750ML      WINE          0.82   \n",
      "...                                     ...       ...           ...   \n",
      "307640           SAM ADAMS OCTOBERFEST 1/6K      KEGS          0.00   \n",
      "307641            HARAR BEER 4/6NR - 11.2OZ      BEER          1.50   \n",
      "307642                 DOS EQUIS LAGER 1/2K      KEGS          0.00   \n",
      "307643          LINDEMANS KRIEK NR - 25.4OZ      BEER          0.00   \n",
      "307644        ARIS GREEK LAGER 4/6NR - 11OZ      BEER          0.00   \n",
      "\n",
      "        RETAIL TRANSFERS  WAREHOUSE SALES  \n",
      "0                    0.0              2.0  \n",
      "1                    1.0              4.0  \n",
      "2                    0.0              1.0  \n",
      "3                    0.0              1.0  \n",
      "4                    0.0              0.0  \n",
      "...                  ...              ...  \n",
      "307640               0.0             54.0  \n",
      "307641               1.0              8.0  \n",
      "307642               0.0             22.0  \n",
      "307643               0.0              4.0  \n",
      "307644               0.0              0.0  \n",
      "\n",
      "[307645 rows x 9 columns]\n"
     ]
    }
   ],
   "source": [
    "object_columns = ['WAREHOUSE SALES']\n",
    "# Replace missing values in these columns with the most frequent value of each column\n",
    "for col in object_columns:\n",
    "    most_frequent = df[col].mode()[0]  # mode() returns a Series, [0] gets the most frequent element\n",
    "    df[col] = df[col].fillna(most_frequent)  # Direct assignment avoids the FutureWarning\n",
    "\n",
    "print(df)"
   ]
  },
  {
   "cell_type": "code",
   "execution_count": 8,
   "id": "f1f9c515",
   "metadata": {},
   "outputs": [
    {
     "data": {
      "text/plain": [
       "Index(['YEAR', 'MONTH', 'SUPPLIER', 'ITEM CODE', 'ITEM DESCRIPTION',\n",
       "       'ITEM TYPE', 'RETAIL SALES', 'RETAIL TRANSFERS', 'WAREHOUSE SALES'],\n",
       "      dtype='object')"
      ]
     },
     "execution_count": 8,
     "metadata": {},
     "output_type": "execute_result"
    }
   ],
   "source": [
    "df.columns"
   ]
  },
  {
   "cell_type": "code",
   "execution_count": 9,
   "id": "020538f9",
   "metadata": {},
   "outputs": [
    {
     "data": {
      "text/plain": [
       "(307645, 9)"
      ]
     },
     "execution_count": 9,
     "metadata": {},
     "output_type": "execute_result"
    }
   ],
   "source": [
    "df.shape"
   ]
  },
  {
   "cell_type": "code",
   "execution_count": 10,
   "id": "6e5ec3ee",
   "metadata": {},
   "outputs": [
    {
     "data": {
      "text/plain": [
       "YEAR                  0\n",
       "MONTH                 0\n",
       "SUPPLIER            167\n",
       "ITEM CODE             2\n",
       "ITEM DESCRIPTION      0\n",
       "ITEM TYPE             1\n",
       "RETAIL SALES          3\n",
       "RETAIL TRANSFERS      0\n",
       "WAREHOUSE SALES       0\n",
       "dtype: int64"
      ]
     },
     "execution_count": 10,
     "metadata": {},
     "output_type": "execute_result"
    }
   ],
   "source": [
    "df.isna().sum()"
   ]
  },
  {
   "cell_type": "code",
   "execution_count": 11,
   "id": "26b41fce-ea80-45c6-b743-4e94af1df221",
   "metadata": {},
   "outputs": [
    {
     "name": "stdout",
     "output_type": "stream",
     "text": [
      "        YEAR  MONTH                             SUPPLIER ITEM CODE  \\\n",
      "0       2020      1    REPUBLIC NATIONAL DISTRIBUTING CO    100009   \n",
      "1       2020      1                            PWSWN INC    100024   \n",
      "2       2020      1              RELIABLE CHURCHILL LLLP      1001   \n",
      "3       2020      1            LANTERNA DISTRIBUTORS INC    100145   \n",
      "4       2020      1                 DIONYSOS IMPORTS INC    100293   \n",
      "...      ...    ...                                  ...       ...   \n",
      "307640  2020      9              BOSTON BEER CORPORATION     98868   \n",
      "307641  2020      9  GLOBAL OCEAN AND AIR CARGO SERVICES     98884   \n",
      "307642  2020      9                         HEINEKEN USA     98906   \n",
      "307643  2020      9              RELIABLE CHURCHILL LLLP     98914   \n",
      "307644  2020      9                CONSTANTINE WINES INC     98930   \n",
      "\n",
      "                           ITEM DESCRIPTION ITEM TYPE  RETAIL SALES  \\\n",
      "0                       BOOTLEG RED - 750ML      WINE          0.00   \n",
      "1                 MOMENT DE PLAISIR - 750ML      WINE          0.00   \n",
      "2       S SMITH ORGANIC PEAR CIDER - 18.7OZ      BEER          0.00   \n",
      "3             SCHLINK HAUS KABINETT - 750ML      WINE          0.00   \n",
      "4            SANTORINI GAVALA WHITE - 750ML      WINE          0.82   \n",
      "...                                     ...       ...           ...   \n",
      "307640           SAM ADAMS OCTOBERFEST 1/6K      KEGS          0.00   \n",
      "307641            HARAR BEER 4/6NR - 11.2OZ      BEER          1.50   \n",
      "307642                 DOS EQUIS LAGER 1/2K      KEGS          0.00   \n",
      "307643          LINDEMANS KRIEK NR - 25.4OZ      BEER          0.00   \n",
      "307644        ARIS GREEK LAGER 4/6NR - 11OZ      BEER          0.00   \n",
      "\n",
      "        RETAIL TRANSFERS  WAREHOUSE SALES  \n",
      "0                    0.0              2.0  \n",
      "1                    1.0              4.0  \n",
      "2                    0.0              1.0  \n",
      "3                    0.0              1.0  \n",
      "4                    0.0              0.0  \n",
      "...                  ...              ...  \n",
      "307640               0.0             54.0  \n",
      "307641               1.0              8.0  \n",
      "307642               0.0             22.0  \n",
      "307643               0.0              4.0  \n",
      "307644               0.0              0.0  \n",
      "\n",
      "[307645 rows x 9 columns]\n"
     ]
    }
   ],
   "source": [
    "object_columns = ['SUPPLIER','ITEM TYPE','RETAIL SALES']\n",
    "# Replace missing values in these columns with the most frequent value of each column\n",
    "for col in object_columns:\n",
    "    most_frequent = df[col].mode()[0]  # mode() returns a Series, [0] gets the most frequent element\n",
    "    df[col] = df[col].fillna(most_frequent)  # Direct assignment avoids the FutureWarning\n",
    "\n",
    "print(df)"
   ]
  },
  {
   "cell_type": "code",
   "execution_count": 12,
   "id": "6999cb05-a84c-42a2-aa65-cfaf5a81de42",
   "metadata": {},
   "outputs": [
    {
     "data": {
      "text/plain": [
       "Index(['YEAR', 'MONTH', 'SUPPLIER', 'ITEM CODE', 'ITEM DESCRIPTION',\n",
       "       'ITEM TYPE', 'RETAIL SALES', 'RETAIL TRANSFERS', 'WAREHOUSE SALES'],\n",
       "      dtype='object')"
      ]
     },
     "execution_count": 12,
     "metadata": {},
     "output_type": "execute_result"
    }
   ],
   "source": [
    "df.columns"
   ]
  },
  {
   "cell_type": "code",
   "execution_count": 13,
   "id": "ac2522e9-834f-403d-a47e-2280c39a089a",
   "metadata": {},
   "outputs": [
    {
     "data": {
      "text/plain": [
       "YEAR                0\n",
       "MONTH               0\n",
       "SUPPLIER            0\n",
       "ITEM CODE           2\n",
       "ITEM DESCRIPTION    0\n",
       "ITEM TYPE           0\n",
       "RETAIL SALES        0\n",
       "RETAIL TRANSFERS    0\n",
       "WAREHOUSE SALES     0\n",
       "dtype: int64"
      ]
     },
     "execution_count": 13,
     "metadata": {},
     "output_type": "execute_result"
    }
   ],
   "source": [
    "df.isna().sum()"
   ]
  },
  {
   "cell_type": "code",
   "execution_count": 14,
   "id": "8d8b5a94-acf1-4b09-9423-bd7e373c71c9",
   "metadata": {},
   "outputs": [
    {
     "name": "stdout",
     "output_type": "stream",
     "text": [
      "        YEAR  MONTH                             SUPPLIER ITEM CODE  \\\n",
      "0       2020      1    REPUBLIC NATIONAL DISTRIBUTING CO    100009   \n",
      "1       2020      1                            PWSWN INC    100024   \n",
      "2       2020      1              RELIABLE CHURCHILL LLLP      1001   \n",
      "3       2020      1            LANTERNA DISTRIBUTORS INC    100145   \n",
      "4       2020      1                 DIONYSOS IMPORTS INC    100293   \n",
      "...      ...    ...                                  ...       ...   \n",
      "307640  2020      9              BOSTON BEER CORPORATION     98868   \n",
      "307641  2020      9  GLOBAL OCEAN AND AIR CARGO SERVICES     98884   \n",
      "307642  2020      9                         HEINEKEN USA     98906   \n",
      "307643  2020      9              RELIABLE CHURCHILL LLLP     98914   \n",
      "307644  2020      9                CONSTANTINE WINES INC     98930   \n",
      "\n",
      "                           ITEM DESCRIPTION ITEM TYPE  RETAIL SALES  \\\n",
      "0                       BOOTLEG RED - 750ML      WINE          0.00   \n",
      "1                 MOMENT DE PLAISIR - 750ML      WINE          0.00   \n",
      "2       S SMITH ORGANIC PEAR CIDER - 18.7OZ      BEER          0.00   \n",
      "3             SCHLINK HAUS KABINETT - 750ML      WINE          0.00   \n",
      "4            SANTORINI GAVALA WHITE - 750ML      WINE          0.82   \n",
      "...                                     ...       ...           ...   \n",
      "307640           SAM ADAMS OCTOBERFEST 1/6K      KEGS          0.00   \n",
      "307641            HARAR BEER 4/6NR - 11.2OZ      BEER          1.50   \n",
      "307642                 DOS EQUIS LAGER 1/2K      KEGS          0.00   \n",
      "307643          LINDEMANS KRIEK NR - 25.4OZ      BEER          0.00   \n",
      "307644        ARIS GREEK LAGER 4/6NR - 11OZ      BEER          0.00   \n",
      "\n",
      "        RETAIL TRANSFERS  WAREHOUSE SALES  \n",
      "0                    0.0              2.0  \n",
      "1                    1.0              4.0  \n",
      "2                    0.0              1.0  \n",
      "3                    0.0              1.0  \n",
      "4                    0.0              0.0  \n",
      "...                  ...              ...  \n",
      "307640               0.0             54.0  \n",
      "307641               1.0              8.0  \n",
      "307642               0.0             22.0  \n",
      "307643               0.0              4.0  \n",
      "307644               0.0              0.0  \n",
      "\n",
      "[307645 rows x 9 columns]\n"
     ]
    }
   ],
   "source": [
    "object_columns = ['ITEM CODE']\n",
    "# Replace missing values in these columns with the most frequent value of each column\n",
    "for col in object_columns:\n",
    "    most_frequent = df[col].mode()[0]  # mode() returns a Series, [0] gets the most frequent element\n",
    "    df[col] = df[col].fillna(most_frequent)  # Direct assignment avoids the FutureWarning\n",
    "\n",
    "print(df)"
   ]
  },
  {
   "cell_type": "code",
   "execution_count": 15,
   "id": "3daf4fab-ef75-4b7f-86bf-17a007f3f0b5",
   "metadata": {},
   "outputs": [
    {
     "data": {
      "text/plain": [
       "Index(['YEAR', 'MONTH', 'SUPPLIER', 'ITEM CODE', 'ITEM DESCRIPTION',\n",
       "       'ITEM TYPE', 'RETAIL SALES', 'RETAIL TRANSFERS', 'WAREHOUSE SALES'],\n",
       "      dtype='object')"
      ]
     },
     "execution_count": 15,
     "metadata": {},
     "output_type": "execute_result"
    }
   ],
   "source": [
    "df.columns"
   ]
  },
  {
   "cell_type": "code",
   "execution_count": 16,
   "id": "8402e7c1-1a12-4025-8f9c-4395b1928304",
   "metadata": {},
   "outputs": [
    {
     "data": {
      "text/plain": [
       "YEAR                0\n",
       "MONTH               0\n",
       "SUPPLIER            0\n",
       "ITEM CODE           0\n",
       "ITEM DESCRIPTION    0\n",
       "ITEM TYPE           0\n",
       "RETAIL SALES        0\n",
       "RETAIL TRANSFERS    0\n",
       "WAREHOUSE SALES     0\n",
       "dtype: int64"
      ]
     },
     "execution_count": 16,
     "metadata": {},
     "output_type": "execute_result"
    }
   ],
   "source": [
    "df.isna().sum()"
   ]
  },
  {
   "cell_type": "code",
   "execution_count": 17,
   "id": "792a588f",
   "metadata": {},
   "outputs": [
    {
     "data": {
      "text/plain": [
       "(307645, 9)"
      ]
     },
     "execution_count": 17,
     "metadata": {},
     "output_type": "execute_result"
    }
   ],
   "source": [
    "df.shape"
   ]
  },
  {
   "cell_type": "code",
   "execution_count": 18,
   "id": "b76e7ecd",
   "metadata": {},
   "outputs": [],
   "source": [
    "df.to_csv('output.csv', index=False)"
   ]
  },
  {
   "cell_type": "code",
   "execution_count": null,
   "id": "cdebd560-9ec9-4c56-8143-40a00aff1ada",
   "metadata": {},
   "outputs": [],
   "source": []
  }
 ],
 "metadata": {
  "kernelspec": {
   "display_name": "Python 3 (ipykernel)",
   "language": "python",
   "name": "python3"
  },
  "language_info": {
   "codemirror_mode": {
    "name": "ipython",
    "version": 3
   },
   "file_extension": ".py",
   "mimetype": "text/x-python",
   "name": "python",
   "nbconvert_exporter": "python",
   "pygments_lexer": "ipython3",
   "version": "3.11.0"
  }
 },
 "nbformat": 4,
 "nbformat_minor": 5
}
